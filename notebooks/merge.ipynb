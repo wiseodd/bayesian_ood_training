{
 "cells": [
  {
   "cell_type": "code",
   "execution_count": 11,
   "metadata": {},
   "outputs": [],
   "source": [
    "import numpy as np\n",
    "\n",
    "\n",
    "for dset in ['MNIST', 'FMNIST', 'SVHN', 'CIFAR10', 'CIFAR100']:\n",
    "    for metric in ['acc', 'cal', 'mmc', 'auroc', 'auprc', 'fpr95']:\n",
    "        dict_ori = np.load(\n",
    "            f'../results/OOD/imagenet/{dset}/{metric}.npy',\n",
    "            allow_pickle=True\n",
    "        ).item()\n",
    "        \n",
    "        dict_add = np.load(\n",
    "            f'../results/OOD/without_noneclass/imagenet/{dset}/{metric}.npy', \n",
    "            allow_pickle=True\n",
    "        ).item()\n",
    "        \n",
    "        for method in ['MAP-noneclass', 'DLA-noneclass', 'LLVB-noneclass']:\n",
    "            with_noneclass_val = dict_ori[method]\n",
    "            without_noneclass_val = dict_add[method]\n",
    "            \n",
    "            dict_ori[f'{method}-extra'] = with_noneclass_val\n",
    "            dict_ori[method] = without_noneclass_val\n",
    "            \n",
    "        np.save(f'../results/OOD/imagenet/{dset}/{metric}.npy', dict_ori)"
   ]
  },
  {
   "cell_type": "code",
   "execution_count": null,
   "metadata": {},
   "outputs": [],
   "source": []
  }
 ],
 "metadata": {
  "kernelspec": {
   "display_name": "Python 3",
   "language": "python",
   "name": "python3"
  },
  "language_info": {
   "codemirror_mode": {
    "name": "ipython",
    "version": 3
   },
   "file_extension": ".py",
   "mimetype": "text/x-python",
   "name": "python",
   "nbconvert_exporter": "python",
   "pygments_lexer": "ipython3",
   "version": "3.7.4"
  }
 },
 "nbformat": 4,
 "nbformat_minor": 4
}
