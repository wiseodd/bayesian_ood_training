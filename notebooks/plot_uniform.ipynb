{
 "cells": [
  {
   "cell_type": "code",
   "execution_count": 5,
   "metadata": {},
   "outputs": [
    {
     "data": {
      "image/png": "[encoded data removed]",
      "text/plain": [
       "<Figure size 410.375x360 with 1 Axes>"
      ]
     },
     "metadata": {},
     "output_type": "display_data"
    }
   ],
   "source": [
    "%matplotlib inline\n",
    "import numpy as np\n",
    "from collections import defaultdict\n",
    "import pandas as pd\n",
    "import matplotlib.pyplot as plt\n",
    "import seaborn as sns\n",
    "import tikzplotlib\n",
    "sns.set_palette('colorblind')\n",
    "sns.set_style('whitegrid')\n",
    "\n",
    "\n",
    "methods = ['MAP-oe', 'DE-plain', 'LLVB-plain', 'DLA-plain']\n",
    "method2str = {\n",
    "    'MAP-plain': 'MAP', 'MAP-oe': 'OE', 'DE-plain': 'DE', \n",
    "    'LLVB-plain': 'VB', 'LLVB-ood': 'LLVB+',\n",
    "    'DLA-plain': 'LA', 'DLA-ood': 'DLA+'\n",
    "}\n",
    "metric2str = {'acc': 'Acc.', 'mmc': 'MMC', 'ece': 'ECE',\n",
    "              'brier': 'Brier', 'loglik': 'LogLik'}\n",
    "dset2str = {'MNIST': 'MNIST', 'FMNIST': 'F-MNIST', 'CIFAR10': 'CIFAR-10', 'CIFAR100': 'CIFAR-100', 'SVHN': 'SVHN'}\n",
    "\n",
    "datasets = ['MNIST', 'SVHN', 'CIFAR10', 'CIFAR100']\n",
    "\n",
    "path = f'../results/OOD/imagenet/'\n",
    "\n",
    "\n",
    "def plot():\n",
    "    means = []\n",
    "    \n",
    "    for dset in datasets:\n",
    "        vals = np.load(f'{path+dset}/mmc.npy', allow_pickle=True).item()\n",
    "        vals = pd.DataFrame(vals)\n",
    "        vals = vals.drop(columns=[col for col in vals.columns if col not in methods])\n",
    "        vals = pd.DataFrame(vals).transpose()  # Dataset-major\n",
    "        vals = vals['UniformNoise']\n",
    "\n",
    "        for method in methods:\n",
    "            row = {'Dataset': dset2str[dset], 'Method': method2str[method], 'Mean Confidence': np.mean(vals[method])}\n",
    "            means.append(row)\n",
    "\n",
    "    df = pd.DataFrame(means)\n",
    "    sns.catplot(data=df, kind='bar', x='Dataset', y='Mean Confidence', hue='Method')\n",
    "    tikzplotlib.save(f'figs/conf_uniform.tex')\n",
    "    plt.show()\n",
    "    \n",
    "    \n",
    "plot()"
   ]
  },
  {
   "cell_type": "code",
   "execution_count": null,
   "metadata": {},
   "outputs": [],
   "source": []
  }
 ],
 "metadata": {
  "kernelspec": {
   "display_name": "Python 3",
   "language": "python",
   "name": "python3"
  },
  "language_info": {
   "codemirror_mode": {
    "name": "ipython",
    "version": 3
   },
   "file_extension": ".py",
   "mimetype": "text/x-python",
   "name": "python",
   "nbconvert_exporter": "python",
   "pygments_lexer": "ipython3",
   "version": "3.7.4"
  }
 },
 "nbformat": 4,
 "nbformat_minor": 4
}
